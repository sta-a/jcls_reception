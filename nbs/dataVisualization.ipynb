{
 "cells": [
  {
   "cell_type": "code",
   "execution_count": 1,
   "id": "ce0c18eb",
   "metadata": {},
   "outputs": [],
   "source": [
    "import io\n",
    "import glob\n",
    "import numpy as np\n",
    "import pandas as pd\n",
    "\n",
    "from matplotlib import colors\n",
    "import matplotlib.pyplot as plt\n",
    "import matplotlib.cm as cm\n",
    "from matplotlib.pyplot import figure\n",
    "import matplotlib.patches as mpatches"
   ]
  },
  {
   "cell_type": "markdown",
   "id": "80ac2f99",
   "metadata": {},
   "source": [
    "### Figure 1"
   ]
  },
  {
   "cell_type": "code",
   "execution_count": 2,
   "id": "9bb8b700",
   "metadata": {},
   "outputs": [
    {
     "name": "stdout",
     "output_type": "stream",
     "text": [
      "(0.0, 0.5019607843137255, 0.5019607843137255, 1.0)\n"
     ]
    }
   ],
   "source": [
    "print(colors.to_rgba('teal'))"
   ]
  },
  {
   "cell_type": "code",
   "execution_count": 3,
   "id": "ac1c6554",
   "metadata": {},
   "outputs": [],
   "source": [
    "eng_file = r'C:\\Users\\Brottrager\\Documents\\Diss\\reviews\\metadata\\ENG_texts_meta.csv'\n",
    "ger_file = r'C:\\Users\\Brottrager\\Documents\\Diss\\reviews\\metadata\\GER_texts_meta.csv'"
   ]
  },
  {
   "cell_type": "code",
   "execution_count": 4,
   "id": "227348bb",
   "metadata": {},
   "outputs": [],
   "source": [
    "eng_meta = pd.read_csv(eng_file, sep=';')\n",
    "ger_meta = pd.read_csv(ger_file, sep=';')"
   ]
  },
  {
   "cell_type": "code",
   "execution_count": 5,
   "id": "b03b9aab",
   "metadata": {},
   "outputs": [],
   "source": [
    "years_covered = pd.DataFrame(range(1688, 1914))\n",
    "years_covered= years_covered.rename(columns={0: 'year'})"
   ]
  },
  {
   "cell_type": "code",
   "execution_count": 6,
   "id": "605389d5",
   "metadata": {},
   "outputs": [],
   "source": [
    "eng_meta_pubyears = pd.DataFrame(eng_meta['pub_year'].value_counts())\n",
    "eng_meta_pubyears.index.name = 'year'\n",
    "eng_meta_pubyears.reset_index(inplace=True)\n",
    "eng_meta_pubyears = eng_meta_pubyears.rename(columns={'pub_year': 'English Corpus'})"
   ]
  },
  {
   "cell_type": "code",
   "execution_count": 7,
   "id": "233280cf",
   "metadata": {},
   "outputs": [],
   "source": [
    "ger_meta_pubyears = pd.DataFrame(ger_meta['pub_year'].value_counts())\n",
    "ger_meta_pubyears.index.name = 'year'\n",
    "ger_meta_pubyears.reset_index(inplace=True)\n",
    "ger_meta_pubyears= ger_meta_pubyears.rename(columns={'pub_year': 'German Corpus'})"
   ]
  },
  {
   "cell_type": "code",
   "execution_count": 8,
   "id": "cc2a2700",
   "metadata": {},
   "outputs": [],
   "source": [
    "meta_pubyears = pd.merge(eng_meta_pubyears, ger_meta_pubyears,\n",
    "                        on='year',how='outer')\n",
    "meta_pubyears = pd.merge(meta_pubyears, years_covered,\n",
    "                        on = 'year',how='outer')"
   ]
  },
  {
   "cell_type": "code",
   "execution_count": 9,
   "id": "fdad093e",
   "metadata": {},
   "outputs": [],
   "source": [
    "meta_pubyears = meta_pubyears.sort_values('year')"
   ]
  },
  {
   "cell_type": "code",
   "execution_count": 10,
   "id": "dbf4283a",
   "metadata": {},
   "outputs": [],
   "source": [
    "colors=['m','teal']"
   ]
  },
  {
   "cell_type": "code",
   "execution_count": 11,
   "id": "d7734254",
   "metadata": {},
   "outputs": [
    {
     "data": {
      "text/html": [
       "<div>\n",
       "<style scoped>\n",
       "    .dataframe tbody tr th:only-of-type {\n",
       "        vertical-align: middle;\n",
       "    }\n",
       "\n",
       "    .dataframe tbody tr th {\n",
       "        vertical-align: top;\n",
       "    }\n",
       "\n",
       "    .dataframe thead th {\n",
       "        text-align: right;\n",
       "    }\n",
       "</style>\n",
       "<table border=\"1\" class=\"dataframe\">\n",
       "  <thead>\n",
       "    <tr style=\"text-align: right;\">\n",
       "      <th></th>\n",
       "      <th>year</th>\n",
       "      <th>English Corpus</th>\n",
       "      <th>German Corpus</th>\n",
       "    </tr>\n",
       "  </thead>\n",
       "  <tbody>\n",
       "    <tr>\n",
       "      <th>160</th>\n",
       "      <td>1688</td>\n",
       "      <td>1.0</td>\n",
       "      <td>NaN</td>\n",
       "    </tr>\n",
       "    <tr>\n",
       "      <th>170</th>\n",
       "      <td>1689</td>\n",
       "      <td>NaN</td>\n",
       "      <td>2.0</td>\n",
       "    </tr>\n",
       "    <tr>\n",
       "      <th>185</th>\n",
       "      <td>1690</td>\n",
       "      <td>NaN</td>\n",
       "      <td>NaN</td>\n",
       "    </tr>\n",
       "    <tr>\n",
       "      <th>186</th>\n",
       "      <td>1691</td>\n",
       "      <td>NaN</td>\n",
       "      <td>NaN</td>\n",
       "    </tr>\n",
       "    <tr>\n",
       "      <th>187</th>\n",
       "      <td>1692</td>\n",
       "      <td>NaN</td>\n",
       "      <td>NaN</td>\n",
       "    </tr>\n",
       "    <tr>\n",
       "      <th>...</th>\n",
       "      <td>...</td>\n",
       "      <td>...</td>\n",
       "      <td>...</td>\n",
       "    </tr>\n",
       "    <tr>\n",
       "      <th>15</th>\n",
       "      <td>1911</td>\n",
       "      <td>8.0</td>\n",
       "      <td>4.0</td>\n",
       "    </tr>\n",
       "    <tr>\n",
       "      <th>21</th>\n",
       "      <td>1912</td>\n",
       "      <td>7.0</td>\n",
       "      <td>8.0</td>\n",
       "    </tr>\n",
       "    <tr>\n",
       "      <th>74</th>\n",
       "      <td>1913</td>\n",
       "      <td>2.0</td>\n",
       "      <td>9.0</td>\n",
       "    </tr>\n",
       "    <tr>\n",
       "      <th>1</th>\n",
       "      <td>1914</td>\n",
       "      <td>29.0</td>\n",
       "      <td>5.0</td>\n",
       "    </tr>\n",
       "    <tr>\n",
       "      <th>184</th>\n",
       "      <td>1919</td>\n",
       "      <td>NaN</td>\n",
       "      <td>1.0</td>\n",
       "    </tr>\n",
       "  </tbody>\n",
       "</table>\n",
       "<p>228 rows × 3 columns</p>\n",
       "</div>"
      ],
      "text/plain": [
       "     year  English Corpus  German Corpus\n",
       "160  1688             1.0            NaN\n",
       "170  1689             NaN            2.0\n",
       "185  1690             NaN            NaN\n",
       "186  1691             NaN            NaN\n",
       "187  1692             NaN            NaN\n",
       "..    ...             ...            ...\n",
       "15   1911             8.0            4.0\n",
       "21   1912             7.0            8.0\n",
       "74   1913             2.0            9.0\n",
       "1    1914            29.0            5.0\n",
       "184  1919             NaN            1.0\n",
       "\n",
       "[228 rows x 3 columns]"
      ]
     },
     "execution_count": 11,
     "metadata": {},
     "output_type": "execute_result"
    }
   ],
   "source": [
    "meta_pubyears"
   ]
  },
  {
   "cell_type": "code",
   "execution_count": 12,
   "id": "f95f0a05",
   "metadata": {
    "scrolled": false
   },
   "outputs": [
    {
     "data": {
      "image/png": "[encoded data removed]",
      "text/plain": [
       "<Figure size 720x576 with 2 Axes>"
      ]
     },
     "metadata": {
      "needs_background": "light"
     },
     "output_type": "display_data"
    }
   ],
   "source": [
    "fig, axes = plt.subplots(2, gridspec_kw={'height_ratios': [5, 2]})\n",
    "corpora = ['English Corpus','German Corpus']\n",
    "\n",
    "i = 0\n",
    "for corpus in corpora:\n",
    "    ax = axes[i]\n",
    "    ax.bar(meta_pubyears['year'], meta_pubyears[corpus], \n",
    "           color=colors[i], width=1, alpha=0.7)\n",
    "    ax.set_ylabel('Number of Texts \\nin ' + corpus)\n",
    "    ax.set_xlabel('Year of Publication')\n",
    "    if i == 0:\n",
    "        ax.set_ylim([0,50.0])\n",
    "    else:\n",
    "        ax.set_ylim([0,20])\n",
    "        plt.yticks(np.arange(0, 21, 10))\n",
    "    ax.set_xlim([1686,1918])\n",
    "    if i != len(corpora)-1:\n",
    "        ax.get_xaxis().set_visible(False)\n",
    "    i += 1\n",
    "\n",
    "fig = plt.gcf()\n",
    "fig.set_size_inches(10, 8)\n",
    "fig.savefig(r'C:\\Users\\Brottrager\\Documents\\Diss\\reviews\\img\\dist_corpora.png', \n",
    "            dpi=600)"
   ]
  },
  {
   "cell_type": "markdown",
   "id": "6a58d9dd",
   "metadata": {},
   "source": [
    "### Figure 2"
   ]
  },
  {
   "cell_type": "code",
   "execution_count": 13,
   "id": "340fea03",
   "metadata": {},
   "outputs": [],
   "source": [
    "eng_senti_file = r'C:\\Users\\Brottrager\\Documents\\Diss\\reviews\\results_sentiscores\\ENG_reviews_senti_classified_id.csv'\n",
    "ger_senti_file = r'C:\\Users\\Brottrager\\Documents\\Diss\\reviews\\results_sentiscores\\GER_reviews_senti_classified_id.csv'\n",
    "\n",
    "eng_reviews_meta = pd.read_csv(eng_senti_file, sep=';')\n",
    "ger_reviews_meta = pd.read_csv(ger_senti_file, sep=';')"
   ]
  },
  {
   "cell_type": "code",
   "execution_count": 14,
   "id": "8f435c43",
   "metadata": {
    "scrolled": true
   },
   "outputs": [],
   "source": [
    "eng_reviews_pubyears = pd.DataFrame(eng_reviews_meta['pub_year'].value_counts())\n",
    "eng_reviews_pubyears.index.name = 'year'\n",
    "eng_reviews_pubyears.reset_index(inplace=True)\n",
    "eng_reviews_pubyears = eng_reviews_pubyears.rename(columns={'pub_year': 'English Corpus'})"
   ]
  },
  {
   "cell_type": "code",
   "execution_count": 15,
   "id": "779849aa",
   "metadata": {},
   "outputs": [],
   "source": [
    "ger_reviews_pubyears = pd.DataFrame(ger_reviews_meta['pub_year'].value_counts())\n",
    "ger_reviews_pubyears.index.name = 'year'\n",
    "ger_reviews_pubyears.reset_index(inplace=True)\n",
    "ger_reviews_pubyears = ger_reviews_pubyears.rename(columns={'pub_year': 'German Corpus'})"
   ]
  },
  {
   "cell_type": "code",
   "execution_count": 16,
   "id": "7ea8b7e5",
   "metadata": {},
   "outputs": [],
   "source": [
    "review_pubyears = pd.merge(eng_reviews_pubyears, ger_reviews_pubyears,\n",
    "                           on='year',how='outer')\n",
    "review_pubyears = pd.merge(review_pubyears, years_covered,\n",
    "                           on = 'year',how='outer')"
   ]
  },
  {
   "cell_type": "code",
   "execution_count": 17,
   "id": "3e2686a0",
   "metadata": {},
   "outputs": [
    {
     "data": {
      "image/png": "[encoded data removed]",
      "text/plain": [
       "<Figure size 720x576 with 2 Axes>"
      ]
     },
     "metadata": {
      "needs_background": "light"
     },
     "output_type": "display_data"
    }
   ],
   "source": [
    "fig, axes = plt.subplots(2)\n",
    "corpora = ['English Corpus','German Corpus']\n",
    "\n",
    "i = 0\n",
    "for corpus in corpora:\n",
    "    ax = axes[i]\n",
    "    ax.bar(review_pubyears['year'], review_pubyears[corpus], \n",
    "           color=colors[i], width=1, alpha=0.7)\n",
    "    ax.set_ylabel('Number of Reviews about Texts \\nin ' + corpus)\n",
    "    ax.set_xlabel('Year of Publication')\n",
    "    ax.set_xlim([1760,1916])\n",
    "    if i != len(corpora)-1:\n",
    "        ax.get_xaxis().set_visible(False)\n",
    "    i += 1\n",
    "    \n",
    "fig = plt.gcf()\n",
    "fig.set_size_inches(10, 8)\n",
    "fig.savefig(r'C:\\Users\\Brottrager\\Documents\\Diss\\reviews\\img\\dist_reviews.png', dpi=600)"
   ]
  },
  {
   "cell_type": "markdown",
   "id": "ee881ae3",
   "metadata": {},
   "source": [
    "#### Descriptive Statistics"
   ]
  },
  {
   "cell_type": "code",
   "execution_count": 18,
   "id": "4262d168",
   "metadata": {
    "scrolled": true
   },
   "outputs": [],
   "source": [
    "eng_reviewed = list(set(eng_reviews_meta['text_id']))\n",
    "ger_reviewed = list(set(ger_reviews_meta['text_id']))\n",
    "eng_meta['reviewed'] = 0\n",
    "ger_meta['reviewed'] = 0"
   ]
  },
  {
   "cell_type": "code",
   "execution_count": 19,
   "id": "0ab466a8",
   "metadata": {},
   "outputs": [],
   "source": [
    "eng_meta.loc[eng_meta.id.isin(eng_reviewed), 'reviewed'] = 1\n",
    "ger_meta.loc[ger_meta.id.isin(ger_reviewed), 'reviewed'] = 1"
   ]
  },
  {
   "cell_type": "code",
   "execution_count": 20,
   "id": "f1c0a933",
   "metadata": {
    "scrolled": true
   },
   "outputs": [
    {
     "name": "stdout",
     "output_type": "stream",
     "text": [
      "254\n",
      "197\n",
      "32.561983471074385\n"
     ]
    }
   ],
   "source": [
    "eng_prop_reviewed = (100/len(eng_meta))*sum(eng_meta['reviewed'])\n",
    "print(len(eng_reviews_meta['text_id']))\n",
    "print(sum(eng_meta['reviewed']))\n",
    "print(eng_prop_reviewed)"
   ]
  },
  {
   "cell_type": "code",
   "execution_count": 21,
   "id": "f17693e7",
   "metadata": {},
   "outputs": [
    {
     "name": "stdout",
     "output_type": "stream",
     "text": [
      "221\n",
      "176\n",
      "32.17550274223035\n"
     ]
    }
   ],
   "source": [
    "ger_prop_reviewed = (100/len(ger_meta))*sum(ger_meta['reviewed'])\n",
    "print(len(ger_reviews_meta['text_id']))\n",
    "print(sum(ger_meta['reviewed']))\n",
    "print(ger_prop_reviewed)"
   ]
  },
  {
   "cell_type": "code",
   "execution_count": 22,
   "id": "78157fa4",
   "metadata": {},
   "outputs": [],
   "source": [
    "eng_meta_reviewed = eng_meta.loc[eng_meta['reviewed'] == 1]\n",
    "ger_meta_reviewed = ger_meta.loc[ger_meta['reviewed'] == 1]"
   ]
  },
  {
   "cell_type": "code",
   "execution_count": 23,
   "id": "3c86192a",
   "metadata": {},
   "outputs": [],
   "source": [
    "eng_authors = list(set(eng_meta['author_viaf']))\n",
    "ger_authors = list(set(ger_meta['author_viaf']))\n",
    "eng_reviewed_authors = list(set(eng_meta_reviewed['author_viaf']))\n",
    "ger_reviewed_authors = list(set(ger_meta_reviewed['author_viaf']))"
   ]
  },
  {
   "cell_type": "code",
   "execution_count": 24,
   "id": "c2e518e9",
   "metadata": {},
   "outputs": [
    {
     "name": "stdout",
     "output_type": "stream",
     "text": [
      "168\n",
      "92\n",
      "54.76190476190476\n"
     ]
    }
   ],
   "source": [
    "eng_prop_reviewed_authors = (100/len(eng_authors))*len(eng_reviewed_authors)\n",
    "print(len(eng_authors))\n",
    "print(len(eng_reviewed_authors))\n",
    "print(eng_prop_reviewed_authors)"
   ]
  },
  {
   "cell_type": "code",
   "execution_count": 25,
   "id": "348d0320",
   "metadata": {
    "scrolled": true
   },
   "outputs": [
    {
     "name": "stdout",
     "output_type": "stream",
     "text": [
      "184\n",
      "79\n",
      "42.93478260869565\n"
     ]
    }
   ],
   "source": [
    "ger_prop_reviewed_authors = (100/len(ger_authors))*len(ger_reviewed_authors)\n",
    "print(len(ger_authors))\n",
    "print(len(ger_reviewed_authors))\n",
    "print(ger_prop_reviewed_authors)"
   ]
  },
  {
   "cell_type": "markdown",
   "id": "8f3f3342",
   "metadata": {},
   "source": [
    "### Figure 3"
   ]
  },
  {
   "cell_type": "code",
   "execution_count": 26,
   "id": "7ae9c7f4",
   "metadata": {},
   "outputs": [],
   "source": [
    "eng_libs_file = r'C:\\Users\\Brottrager\\Documents\\Diss\\reviews\\metadata\\ENG_texts_circulating-libs.csv'\n",
    "ger_libs_file = r'C:\\Users\\Brottrager\\Documents\\Diss\\reviews\\metadata\\GER_texts_circulating-libs.csv'\n",
    "\n",
    "eng_libs = pd.read_csv(eng_libs_file, sep=';')\n",
    "ger_libs = pd.read_csv(ger_libs_file, sep=';')\n",
    "\n",
    "eng_libs = eng_libs[(eng_libs.binary == 1)]\n",
    "ger_libs = ger_libs[(ger_libs.binary == 1)]"
   ]
  },
  {
   "cell_type": "code",
   "execution_count": 27,
   "id": "2defa150",
   "metadata": {},
   "outputs": [],
   "source": [
    "eng_libs_pubyears = pd.DataFrame(eng_libs['pub_year'].value_counts())\n",
    "eng_libs_pubyears.index.name = 'year'\n",
    "eng_libs_pubyears.reset_index(inplace=True)\n",
    "eng_libs_pubyears = eng_libs_pubyears.rename(columns={'pub_year': 'English Corpus'})"
   ]
  },
  {
   "cell_type": "code",
   "execution_count": 28,
   "id": "0bf63c87",
   "metadata": {},
   "outputs": [],
   "source": [
    "ger_libs_pubyears = pd.DataFrame(ger_libs['pub_year'].value_counts())\n",
    "ger_libs_pubyears.index.name = 'year'\n",
    "ger_libs_pubyears.reset_index(inplace=True)\n",
    "ger_libs_pubyears = ger_libs_pubyears.rename(columns={'pub_year': 'German Corpus'})"
   ]
  },
  {
   "cell_type": "code",
   "execution_count": 29,
   "id": "97145e48",
   "metadata": {},
   "outputs": [],
   "source": [
    "libs_pubyears = pd.merge(eng_libs_pubyears, ger_libs_pubyears,\n",
    "                           on='year',how='outer')\n",
    "libs_pubyears = pd.merge(libs_pubyears, years_covered,\n",
    "                           on = 'year',how='outer')"
   ]
  },
  {
   "cell_type": "code",
   "execution_count": 30,
   "id": "9304dfa8",
   "metadata": {},
   "outputs": [],
   "source": [
    "before1890 = libs_pubyears.loc[(libs_pubyears['year'] < 1890) & (libs_pubyears['year'] >= 1790)]\n",
    "after1890 = libs_pubyears.loc[libs_pubyears['year'] >= 1890]"
   ]
  },
  {
   "cell_type": "code",
   "execution_count": 31,
   "id": "fb0e2c6c",
   "metadata": {},
   "outputs": [
    {
     "data": {
      "text/plain": [
       "2.97"
      ]
     },
     "execution_count": 31,
     "metadata": {},
     "output_type": "execute_result"
    }
   ],
   "source": [
    "np.nansum(before1890['English Corpus'])/len(before1890)"
   ]
  },
  {
   "cell_type": "code",
   "execution_count": 32,
   "id": "4850446b",
   "metadata": {},
   "outputs": [
    {
     "data": {
      "text/plain": [
       "4.84"
      ]
     },
     "execution_count": 32,
     "metadata": {},
     "output_type": "execute_result"
    }
   ],
   "source": [
    "np.nansum(after1890['English Corpus'])/len(after1890)"
   ]
  },
  {
   "cell_type": "code",
   "execution_count": 33,
   "id": "46d0779e",
   "metadata": {},
   "outputs": [
    {
     "data": {
      "text/html": [
       "<div>\n",
       "<style scoped>\n",
       "    .dataframe tbody tr th:only-of-type {\n",
       "        vertical-align: middle;\n",
       "    }\n",
       "\n",
       "    .dataframe tbody tr th {\n",
       "        vertical-align: top;\n",
       "    }\n",
       "\n",
       "    .dataframe thead th {\n",
       "        text-align: right;\n",
       "    }\n",
       "</style>\n",
       "<table border=\"1\" class=\"dataframe\">\n",
       "  <thead>\n",
       "    <tr style=\"text-align: right;\">\n",
       "      <th></th>\n",
       "      <th>year</th>\n",
       "      <th>English Corpus</th>\n",
       "      <th>German Corpus</th>\n",
       "    </tr>\n",
       "  </thead>\n",
       "  <tbody>\n",
       "    <tr>\n",
       "      <th>162</th>\n",
       "      <td>1688</td>\n",
       "      <td>NaN</td>\n",
       "      <td>NaN</td>\n",
       "    </tr>\n",
       "    <tr>\n",
       "      <th>144</th>\n",
       "      <td>1689</td>\n",
       "      <td>NaN</td>\n",
       "      <td>2.0</td>\n",
       "    </tr>\n",
       "    <tr>\n",
       "      <th>163</th>\n",
       "      <td>1690</td>\n",
       "      <td>NaN</td>\n",
       "      <td>NaN</td>\n",
       "    </tr>\n",
       "    <tr>\n",
       "      <th>164</th>\n",
       "      <td>1691</td>\n",
       "      <td>NaN</td>\n",
       "      <td>NaN</td>\n",
       "    </tr>\n",
       "    <tr>\n",
       "      <th>165</th>\n",
       "      <td>1692</td>\n",
       "      <td>NaN</td>\n",
       "      <td>NaN</td>\n",
       "    </tr>\n",
       "    <tr>\n",
       "      <th>...</th>\n",
       "      <td>...</td>\n",
       "      <td>...</td>\n",
       "      <td>...</td>\n",
       "    </tr>\n",
       "    <tr>\n",
       "      <th>224</th>\n",
       "      <td>1910</td>\n",
       "      <td>NaN</td>\n",
       "      <td>NaN</td>\n",
       "    </tr>\n",
       "    <tr>\n",
       "      <th>225</th>\n",
       "      <td>1911</td>\n",
       "      <td>NaN</td>\n",
       "      <td>NaN</td>\n",
       "    </tr>\n",
       "    <tr>\n",
       "      <th>137</th>\n",
       "      <td>1912</td>\n",
       "      <td>1.0</td>\n",
       "      <td>1.0</td>\n",
       "    </tr>\n",
       "    <tr>\n",
       "      <th>226</th>\n",
       "      <td>1913</td>\n",
       "      <td>NaN</td>\n",
       "      <td>NaN</td>\n",
       "    </tr>\n",
       "    <tr>\n",
       "      <th>161</th>\n",
       "      <td>1914</td>\n",
       "      <td>NaN</td>\n",
       "      <td>1.0</td>\n",
       "    </tr>\n",
       "  </tbody>\n",
       "</table>\n",
       "<p>227 rows × 3 columns</p>\n",
       "</div>"
      ],
      "text/plain": [
       "     year  English Corpus  German Corpus\n",
       "162  1688             NaN            NaN\n",
       "144  1689             NaN            2.0\n",
       "163  1690             NaN            NaN\n",
       "164  1691             NaN            NaN\n",
       "165  1692             NaN            NaN\n",
       "..    ...             ...            ...\n",
       "224  1910             NaN            NaN\n",
       "225  1911             NaN            NaN\n",
       "137  1912             1.0            1.0\n",
       "226  1913             NaN            NaN\n",
       "161  1914             NaN            1.0\n",
       "\n",
       "[227 rows x 3 columns]"
      ]
     },
     "execution_count": 33,
     "metadata": {},
     "output_type": "execute_result"
    }
   ],
   "source": [
    "libs_pubyears.sort_values(by=['year'])"
   ]
  },
  {
   "cell_type": "code",
   "execution_count": 34,
   "id": "4e543e02",
   "metadata": {},
   "outputs": [
    {
     "data": {
      "image/png": "[encoded data removed]",
      "text/plain": [
       "<Figure size 720x576 with 2 Axes>"
      ]
     },
     "metadata": {
      "needs_background": "light"
     },
     "output_type": "display_data"
    }
   ],
   "source": [
    "fig, axes = plt.subplots(2, gridspec_kw={'height_ratios': [5, 2]})\n",
    "corpora = ['English Corpus','German Corpus']\n",
    "\n",
    "i = 0\n",
    "for corpus in corpora:\n",
    "    ax = axes[i]\n",
    "    ax.bar(libs_pubyears['year'], libs_pubyears[corpus], \n",
    "           color=colors[i], width=1, alpha=0.7)\n",
    "    ax.set_ylabel('Number of Texts Featured in \\nCirculating Library Catalogues \\nin ' + corpus)\n",
    "    ax.set_xlabel('Year of Publication')\n",
    "    ax.set_xlim([1686,1918])\n",
    "    if i == 0:\n",
    "        ax.set_ylim([0,50.0])\n",
    "    else:\n",
    "        ax.set_ylim([0,20]) \n",
    "        plt.yticks(np.arange(0, 21, 10))\n",
    "    if i != len(corpora)-1:\n",
    "        ax.get_xaxis().set_visible(False)\n",
    "    i += 1\n",
    "    \n",
    "fig = plt.gcf()\n",
    "fig.set_size_inches(10, 8)\n",
    "fig.savefig(r'C:\\Users\\Brottrager\\Documents\\Diss\\reviews\\img\\dist_circlibs.png', dpi=600)"
   ]
  },
  {
   "cell_type": "markdown",
   "id": "1b9d55e2",
   "metadata": {},
   "source": [
    "#### Descriptive Statistics"
   ]
  },
  {
   "cell_type": "code",
   "execution_count": 35,
   "id": "9de3c4a2",
   "metadata": {
    "scrolled": true
   },
   "outputs": [],
   "source": [
    "eng_with_entries = eng_libs.loc[eng_libs['binary'] == 1]\n",
    "ger_with_entries = ger_libs.loc[ger_libs['binary'] == 1]"
   ]
  },
  {
   "cell_type": "code",
   "execution_count": 36,
   "id": "f49ab278",
   "metadata": {
    "scrolled": true
   },
   "outputs": [
    {
     "name": "stdout",
     "output_type": "stream",
     "text": [
      "457\n",
      "457\n",
      "100.0\n"
     ]
    }
   ],
   "source": [
    "eng_prop_entries = (100/len(eng_libs))*len(eng_with_entries)\n",
    "print(len(eng_libs))\n",
    "print(len(eng_with_entries))\n",
    "print(eng_prop_entries)"
   ]
  },
  {
   "cell_type": "code",
   "execution_count": 37,
   "id": "5615bd81",
   "metadata": {},
   "outputs": [
    {
     "name": "stdout",
     "output_type": "stream",
     "text": [
      "306\n",
      "306\n",
      "100.0\n"
     ]
    }
   ],
   "source": [
    "ger_prop_entries = (100/len(ger_libs))*len(ger_with_entries)\n",
    "print(len(ger_libs))\n",
    "print(len(ger_with_entries))\n",
    "print(ger_prop_entries)"
   ]
  },
  {
   "cell_type": "code",
   "execution_count": 38,
   "id": "3718c91e",
   "metadata": {
    "scrolled": true
   },
   "outputs": [],
   "source": [
    "eng_entries_authors = list(set(eng_with_entries['author_viaf']))\n",
    "ger_entries_authors = list(set(ger_with_entries['author_viaf']))"
   ]
  },
  {
   "cell_type": "code",
   "execution_count": 39,
   "id": "34289f5d",
   "metadata": {
    "scrolled": true
   },
   "outputs": [
    {
     "name": "stdout",
     "output_type": "stream",
     "text": [
      "168\n",
      "132\n",
      "78.57142857142857\n"
     ]
    }
   ],
   "source": [
    "eng_prop_entries_authors = (100/len(eng_authors))*len(eng_entries_authors)\n",
    "print(len(eng_authors))\n",
    "print(len(eng_entries_authors))\n",
    "print(eng_prop_entries_authors)"
   ]
  },
  {
   "cell_type": "code",
   "execution_count": 40,
   "id": "b3c0b68c",
   "metadata": {},
   "outputs": [
    {
     "name": "stdout",
     "output_type": "stream",
     "text": [
      "184\n",
      "100\n",
      "54.347826086956516\n"
     ]
    }
   ],
   "source": [
    "ger_prop_entries_authors = (100/len(ger_authors))*len(ger_entries_authors)\n",
    "print(len(ger_authors))\n",
    "print(len(ger_entries_authors))\n",
    "print(ger_prop_entries_authors)"
   ]
  },
  {
   "cell_type": "markdown",
   "id": "756f6983",
   "metadata": {},
   "source": [
    "### Figure 4"
   ]
  },
  {
   "cell_type": "code",
   "execution_count": 41,
   "id": "12f6724b",
   "metadata": {
    "scrolled": true
   },
   "outputs": [],
   "source": [
    "eng_senti = eng_reviews_meta[['sentiment','journal','text_id',\n",
    "                       'sentiscore_average','sentiment_Textblob']]\n",
    "eng_senti = eng_reviews_meta.sort_values('sentiment')\n",
    "ger_senti = ger_reviews_meta[['sentiment','journal','text_id',\n",
    "                       'sentiscore_average','sentiment_Textblob']]\n",
    "ger_senti = ger_reviews_meta.sort_values('sentiment')"
   ]
  },
  {
   "cell_type": "code",
   "execution_count": 42,
   "id": "3cce4f79",
   "metadata": {},
   "outputs": [
    {
     "name": "stderr",
     "output_type": "stream",
     "text": [
      "No artists with labels found to put in legend.  Note that artists whose label start with an underscore are ignored when legend() is called with no argument.\n",
      "No artists with labels found to put in legend.  Note that artists whose label start with an underscore are ignored when legend() is called with no argument.\n",
      "No artists with labels found to put in legend.  Note that artists whose label start with an underscore are ignored when legend() is called with no argument.\n",
      "No artists with labels found to put in legend.  Note that artists whose label start with an underscore are ignored when legend() is called with no argument.\n",
      "No artists with labels found to put in legend.  Note that artists whose label start with an underscore are ignored when legend() is called with no argument.\n",
      "No artists with labels found to put in legend.  Note that artists whose label start with an underscore are ignored when legend() is called with no argument.\n",
      "No artists with labels found to put in legend.  Note that artists whose label start with an underscore are ignored when legend() is called with no argument.\n",
      "No artists with labels found to put in legend.  Note that artists whose label start with an underscore are ignored when legend() is called with no argument.\n",
      "No artists with labels found to put in legend.  Note that artists whose label start with an underscore are ignored when legend() is called with no argument.\n",
      "No artists with labels found to put in legend.  Note that artists whose label start with an underscore are ignored when legend() is called with no argument.\n"
     ]
    },
    {
     "data": {
      "image/png": "[encoded data removed]",
      "text/plain": [
       "<Figure size 720x720 with 10 Axes>"
      ]
     },
     "metadata": {
      "needs_background": "light"
     },
     "output_type": "display_data"
    }
   ],
   "source": [
    "fig, axes = plt.subplots(10, constrained_layout=True)\n",
    "journals = list(set(eng_senti['journal']))\n",
    "variants = ['sentiscore_average','sentiment_Textblob']\n",
    "\n",
    "i = 0\n",
    "for var in variants:\n",
    "    if var == 'sentiscore_average':\n",
    "        label = 'SentiArt Score'\n",
    "    else:\n",
    "        label = \"TextBlob Score\"\n",
    "    for journal in journals:\n",
    "        data = eng_senti[eng_senti['journal'] == journal]\n",
    "        ax = axes[i]\n",
    "        ax.hist(x=data[var], bins=30, color='m',\n",
    "                alpha=0.7, rwidth=0.85)\n",
    "        ax.set_ylabel(journal)\n",
    "        ax.set_xlim([-0.15, 0.25])\n",
    "        if i != 4 and i != 9:\n",
    "            ax.get_xaxis().set_visible(False)\n",
    "        if i == 0 or i == 5:\n",
    "            ax.set_title(label)\n",
    "        leg = ax.legend(loc='upper left')\n",
    "        leg.draw_frame(False)\n",
    "        i += 1\n",
    "\n",
    "fig = plt.gcf()\n",
    "fig.set_size_inches(10, 10)\n",
    "fig.savefig(r'C:\\Users\\Brottrager\\Documents\\Diss\\reviews\\img\\ENG_comp.png', dpi=600)"
   ]
  },
  {
   "cell_type": "markdown",
   "id": "9f599711",
   "metadata": {},
   "source": [
    "### Figure 5"
   ]
  },
  {
   "cell_type": "code",
   "execution_count": 43,
   "id": "398aa380",
   "metadata": {
    "scrolled": false
   },
   "outputs": [
    {
     "name": "stderr",
     "output_type": "stream",
     "text": [
      "No artists with labels found to put in legend.  Note that artists whose label start with an underscore are ignored when legend() is called with no argument.\n",
      "No artists with labels found to put in legend.  Note that artists whose label start with an underscore are ignored when legend() is called with no argument.\n",
      "No artists with labels found to put in legend.  Note that artists whose label start with an underscore are ignored when legend() is called with no argument.\n",
      "No artists with labels found to put in legend.  Note that artists whose label start with an underscore are ignored when legend() is called with no argument.\n",
      "No artists with labels found to put in legend.  Note that artists whose label start with an underscore are ignored when legend() is called with no argument.\n",
      "No artists with labels found to put in legend.  Note that artists whose label start with an underscore are ignored when legend() is called with no argument.\n",
      "No artists with labels found to put in legend.  Note that artists whose label start with an underscore are ignored when legend() is called with no argument.\n",
      "No artists with labels found to put in legend.  Note that artists whose label start with an underscore are ignored when legend() is called with no argument.\n"
     ]
    },
    {
     "data": {
      "image/png": "[encoded data removed]",
      "text/plain": [
       "<Figure size 720x720 with 8 Axes>"
      ]
     },
     "metadata": {
      "needs_background": "light"
     },
     "output_type": "display_data"
    }
   ],
   "source": [
    "fig, axes = plt.subplots(8, constrained_layout=True)\n",
    "journals = list(set(ger_senti['journal']))\n",
    "variants = ['sentiscore_average','sentiment_Textblob']\n",
    "i = 0\n",
    "for var in variants:\n",
    "    if var == 'sentiscore_average':\n",
    "        label = 'SentiArt Score'\n",
    "    else:\n",
    "        label = \"TextBlob Score\"\n",
    "    for journal in journals:\n",
    "        data = ger_senti[ger_senti['journal'] == journal]\n",
    "        ax = axes[i]\n",
    "        ax.hist(x=data[var], bins=30, color='teal',\n",
    "                alpha=0.7, rwidth=0.85)\n",
    "        ax.set_ylabel(journal)\n",
    "        ax.set_xlim([-0.15, 0.25])\n",
    "        if i != 3 and i != 7:\n",
    "            ax.get_xaxis().set_visible(False)\n",
    "        if i == 0 or i == 4:\n",
    "            ax.set_title(label)\n",
    "        leg = ax.legend(loc='upper left')\n",
    "        leg.draw_frame(False)\n",
    "        i += 1\n",
    "\n",
    "fig = plt.gcf()\n",
    "fig.set_size_inches(10, 10)\n",
    "fig.savefig(r'C:\\Users\\Brottrager\\Documents\\Diss\\reviews\\img\\GER_comp.png', dpi=600)"
   ]
  },
  {
   "cell_type": "markdown",
   "id": "979ba216",
   "metadata": {},
   "source": [
    "### Figure 6"
   ]
  },
  {
   "cell_type": "code",
   "execution_count": 44,
   "id": "ab0eca80",
   "metadata": {
    "scrolled": true
   },
   "outputs": [
    {
     "data": {
      "image/png": "[encoded data removed]",
      "text/plain": [
       "<Figure size 720x720 with 2 Axes>"
      ]
     },
     "metadata": {
      "needs_background": "light"
     },
     "output_type": "display_data"
    }
   ],
   "source": [
    "fig, axes = plt.subplots(2, gridspec_kw={'height_ratios': [2, 3]})\n",
    "senti = [eng_senti, ger_senti]\n",
    "corpora = ['English Corpus','German Corpus']\n",
    "colors = ['m','teal']\n",
    "\n",
    "i = 0\n",
    "for s in senti:\n",
    "    data = s\n",
    "    ax = axes[i]\n",
    "    ax.hist(x=data['sentiment'], bins=30, color=colors[i],\n",
    "            alpha=0.7, rwidth=0.85)\n",
    "    ax.set_xlabel('Aggregated Sentiment Score')\n",
    "    ax.set_ylabel(corpora[i])\n",
    "    ax.set_xlim([-0.15, 0.25])    \n",
    "    if i != len(corpora)-1:\n",
    "        ax.get_xaxis().set_visible(False)\n",
    "    i += 1\n",
    "    \n",
    "fig = plt.gcf()\n",
    "fig.set_size_inches(10, 10)\n",
    "fig.savefig(r'C:\\Users\\Brottrager\\Documents\\Diss\\reviews\\img\\dist_aggregated_sentiment_scores.png', dpi=600)"
   ]
  }
 ],
 "metadata": {
  "kernelspec": {
   "display_name": "Python 3",
   "language": "python",
   "name": "python3"
  },
  "language_info": {
   "codemirror_mode": {
    "name": "ipython",
    "version": 3
   },
   "file_extension": ".py",
   "mimetype": "text/x-python",
   "name": "python",
   "nbconvert_exporter": "python",
   "pygments_lexer": "ipython3",
   "version": "3.8.8"
  }
 },
 "nbformat": 4,
 "nbformat_minor": 5
}
